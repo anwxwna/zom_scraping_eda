{
 "cells": [
  {
   "cell_type": "code",
   "execution_count": 1,
   "metadata": {
    "collapsed": true
   },
   "outputs": [],
   "source": [
    "import io, time, json\n",
    "import requests as req\n",
    "from bs4 import BeautifulSoup"
   ]
  },
  {
   "cell_type": "code",
   "execution_count": 2,
   "metadata": {
    "collapsed": true
   },
   "outputs": [],
   "source": [
    "##Q1: Authenticated HTTP Request with the ZOMATO API\n",
    "def read_api_key(filepath):\n",
    "    with open(filepath,'r') as f:\n",
    "        return f.read().replace('\\n','')\n",
    "    "
   ]
  },
  {
   "cell_type": "code",
   "execution_count": 3,
   "metadata": {
    "collapsed": true
   },
   "outputs": [],
   "source": [
    "filepath='C:\\\\Users\\\\anwch\\\\Documents\\\\Plans\\\\data_science\\\\zomato.txt'\n",
    "api_key=read_api_key(filepath)\n",
    "zomatourl='https://developers.zomato.com/api/v2.1/city_ids'\n",
    "\n"
   ]
  },
  {
   "cell_type": "code",
   "execution_count": 4,
   "metadata": {
    "collapsed": true
   },
   "outputs": [],
   "source": [
    "class Api(object):\n",
    "    def __init__(self, api_key, host=\"https://developers.zomato.com/api/v2.1\",\n",
    "                 content_type='application/json'):\n",
    "        self.host = host\n",
    "        self.user_key = api_key\n",
    "        self.headers = {\n",
    "            \"User-agent\": \"curl/7.43.0\",\n",
    "            'Accept': content_type,\n",
    "            'X-Zomato-API-Key': self.user_key\n",
    "        }\n",
    "\n",
    "    def get(self, endpoint, params):\n",
    "        url = self.host + endpoint + \"?\"\n",
    "        for k,v in params.items():\n",
    "            url = url + \"{}={}&\".format(k, v)\n",
    "        url = url.rstrip(\"&\")\n",
    "        print(url)\n",
    "        response = req.get(url, headers=self.headers)\n",
    "        return response.json()"
   ]
  },
  {
   "cell_type": "code",
   "execution_count": 57,
   "metadata": {},
   "outputs": [],
   "source": [
    "class zomato_search(object):\n",
    "    def __init__(self, api_key):\n",
    "        self.api = Api(api_key)\n",
    "        \n",
    "    def city_id(self, **kwargs):\n",
    "        params = {}\n",
    "        available_keys = [\"q\", \"lat\", \"lon\", \"city_ids\", \"count\"]\n",
    "        for key in available_keys:\n",
    "            if key in kwargs:\n",
    "                params[key] = kwargs[key]\n",
    "        city = self.api.get(\"/cities\", params)\n",
    "        for locs in city['location_suggestions']:\n",
    "            if locs['country_name']=='India':\n",
    "                cid=locs['id']\n",
    "        return cid\n",
    "    \n",
    "    def all_restaurants(self, **kwargs):\n",
    "        params={}\n",
    "        rest_list=[]\n",
    "        available_keys=['city','entity_id','entity_type','q','start','count','lat','lon','radius','cuisines','establishment_type','collection_id','category','sort','order']\n",
    "        \n",
    "        for key in available_keys:\n",
    "            if key in kwargs:\n",
    "                if key=='city':\n",
    "                    params['entity_id']=self.city_id(q=kwargs['city'])\n",
    "                    params['entity_type']='city'\n",
    "                \n",
    "                params[key]=kwargs[key]\n",
    "        search=self.api.get(\"/search\",params) \n",
    "        params['start']=2\n",
    "        for t in range(len(search['restaurants'])):\n",
    "            #params['start']= i\n",
    "            search=self.api.get(\"/search\",params)\n",
    "            time.sleep(0.2)\n",
    "            rest_list.append(search['restaurants'][t]['restaurant']['name'])\n",
    "           # for t in range(len(search['restaurants'])):\n",
    "           #     print(t+i)\n",
    "        print(rest_list)   \n",
    "        return rest_list\n",
    "        \n",
    "    \n"
   ]
  },
  {
   "cell_type": "code",
   "execution_count": null,
   "metadata": {
    "collapsed": true
   },
   "outputs": [],
   "source": []
  },
  {
   "cell_type": "code",
   "execution_count": 58,
   "metadata": {},
   "outputs": [
    {
     "name": "stdout",
     "output_type": "stream",
     "text": [
      "https://developers.zomato.com/api/v2.1/cities?q=delhi\n",
      "https://developers.zomato.com/api/v2.1/search?entity_id=1&entity_type=city&city=delhi&count=20&sort=cost&order=desc\n",
      "https://developers.zomato.com/api/v2.1/search?entity_id=1&entity_type=city&city=delhi&count=20&sort=cost&order=desc&start=2\n",
      "https://developers.zomato.com/api/v2.1/search?entity_id=1&entity_type=city&city=delhi&count=20&sort=cost&order=desc&start=2\n",
      "https://developers.zomato.com/api/v2.1/search?entity_id=1&entity_type=city&city=delhi&count=20&sort=cost&order=desc&start=2\n",
      "https://developers.zomato.com/api/v2.1/search?entity_id=1&entity_type=city&city=delhi&count=20&sort=cost&order=desc&start=2\n",
      "https://developers.zomato.com/api/v2.1/search?entity_id=1&entity_type=city&city=delhi&count=20&sort=cost&order=desc&start=2\n"
     ]
    },
    {
     "ename": "IndexError",
     "evalue": "list index out of range",
     "output_type": "error",
     "traceback": [
      "\u001b[1;31m---------------------------------------------------------------------------\u001b[0m",
      "\u001b[1;31mIndexError\u001b[0m                                Traceback (most recent call last)",
      "\u001b[1;32m<ipython-input-58-08e85f60a962>\u001b[0m in \u001b[0;36m<module>\u001b[1;34m()\u001b[0m\n\u001b[0;32m      1\u001b[0m \u001b[0mzom\u001b[0m \u001b[1;33m=\u001b[0m \u001b[0mzomato_search\u001b[0m\u001b[1;33m(\u001b[0m\u001b[0mapi_key\u001b[0m\u001b[1;33m)\u001b[0m\u001b[1;33m\u001b[0m\u001b[0m\n\u001b[0;32m      2\u001b[0m \u001b[1;31m#cid=zom.city_id(q='bengaluru')\u001b[0m\u001b[1;33m\u001b[0m\u001b[1;33m\u001b[0m\u001b[0m\n\u001b[1;32m----> 3\u001b[1;33m \u001b[0mzom\u001b[0m\u001b[1;33m.\u001b[0m\u001b[0mall_restaurants\u001b[0m\u001b[1;33m(\u001b[0m\u001b[0mcity\u001b[0m\u001b[1;33m=\u001b[0m\u001b[1;34m'delhi'\u001b[0m\u001b[1;33m,\u001b[0m\u001b[0msort\u001b[0m\u001b[1;33m=\u001b[0m\u001b[1;34m'cost'\u001b[0m\u001b[1;33m,\u001b[0m\u001b[0morder\u001b[0m\u001b[1;33m=\u001b[0m\u001b[1;34m'desc'\u001b[0m\u001b[1;33m,\u001b[0m\u001b[0mcount\u001b[0m\u001b[1;33m=\u001b[0m\u001b[1;36m20\u001b[0m\u001b[1;33m)\u001b[0m\u001b[1;33m\u001b[0m\u001b[0m\n\u001b[0m\u001b[0;32m      4\u001b[0m \u001b[1;33m\u001b[0m\u001b[0m\n",
      "\u001b[1;32m<ipython-input-57-442b4ae70f15>\u001b[0m in \u001b[0;36mall_restaurants\u001b[1;34m(self, **kwargs)\u001b[0m\n\u001b[0;32m     33\u001b[0m             \u001b[0msearch\u001b[0m\u001b[1;33m=\u001b[0m\u001b[0mself\u001b[0m\u001b[1;33m.\u001b[0m\u001b[0mapi\u001b[0m\u001b[1;33m.\u001b[0m\u001b[0mget\u001b[0m\u001b[1;33m(\u001b[0m\u001b[1;34m\"/search\"\u001b[0m\u001b[1;33m,\u001b[0m\u001b[0mparams\u001b[0m\u001b[1;33m)\u001b[0m\u001b[1;33m\u001b[0m\u001b[0m\n\u001b[0;32m     34\u001b[0m             \u001b[0mtime\u001b[0m\u001b[1;33m.\u001b[0m\u001b[0msleep\u001b[0m\u001b[1;33m(\u001b[0m\u001b[1;36m0.2\u001b[0m\u001b[1;33m)\u001b[0m\u001b[1;33m\u001b[0m\u001b[0m\n\u001b[1;32m---> 35\u001b[1;33m             \u001b[0mrest_list\u001b[0m\u001b[1;33m.\u001b[0m\u001b[0mappend\u001b[0m\u001b[1;33m(\u001b[0m\u001b[0msearch\u001b[0m\u001b[1;33m[\u001b[0m\u001b[1;34m'restaurants'\u001b[0m\u001b[1;33m]\u001b[0m\u001b[1;33m[\u001b[0m\u001b[0mt\u001b[0m\u001b[1;33m]\u001b[0m\u001b[1;33m[\u001b[0m\u001b[1;34m'restaurant'\u001b[0m\u001b[1;33m]\u001b[0m\u001b[1;33m[\u001b[0m\u001b[1;34m'name'\u001b[0m\u001b[1;33m]\u001b[0m\u001b[1;33m)\u001b[0m\u001b[1;33m\u001b[0m\u001b[0m\n\u001b[0m\u001b[0;32m     36\u001b[0m            \u001b[1;31m# for t in range(len(search['restaurants'])):\u001b[0m\u001b[1;33m\u001b[0m\u001b[1;33m\u001b[0m\u001b[0m\n\u001b[0;32m     37\u001b[0m            \u001b[1;31m#     print(t+i)\u001b[0m\u001b[1;33m\u001b[0m\u001b[1;33m\u001b[0m\u001b[0m\n",
      "\u001b[1;31mIndexError\u001b[0m: list index out of range"
     ]
    }
   ],
   "source": [
    "zom = zomato_search(api_key)\n",
    "#cid=zom.city_id(q='bengaluru')\n",
    "zom.all_restaurants(city='delhi',sort='cost',order='desc',count=20)\n",
    "\n"
   ]
  },
  {
   "cell_type": "code",
   "execution_count": 41,
   "metadata": {},
   "outputs": [
    {
     "name": "stdout",
     "output_type": "stream",
     "text": [
      "https://developers.zomato.com/api/v2.1/cities?q=delhi\n",
      "https://developers.zomato.com/api/v2.1/search?entity_id=1&entity_type=city&city=delhi&count=20&sort=cost&order=desc\n",
      "dict_keys(['R', 'apikey', 'id', 'name', 'url', 'location', 'switch_to_order_menu', 'cuisines', 'timings', 'average_cost_for_two', 'price_range', 'currency', 'highlights', 'offers', 'zomato_events', 'opentable_support', 'is_zomato_book_res', 'mezzo_provider', 'is_book_form_web_view', 'book_form_web_view_url', 'book_again_url', 'thumb', 'user_rating', 'all_reviews_count', 'photos_url', 'photo_count', 'photos', 'menu_url', 'featured_image', 'medio_provider', 'has_online_delivery', 'is_delivering_now', 'include_bogo_offers', 'deeplink', 'is_table_reservation_supported', 'has_table_booking', 'book_url', 'events_url', 'phone_numbers', 'all_reviews', 'establishment', 'establishment_types'])\n"
     ]
    }
   ],
   "source": [
    "zom = zomato_search(api_key)\n",
    "#cid=zom.city_id(q='bengaluru')\n",
    "zom.all_restaurants(city='delhi',sort='cost',order='desc',count=20)"
   ]
  }
 ],
 "metadata": {
  "kernelspec": {
   "display_name": "Python 3",
   "language": "python",
   "name": "python3"
  },
  "language_info": {
   "codemirror_mode": {
    "name": "ipython",
    "version": 3
   },
   "file_extension": ".py",
   "mimetype": "text/x-python",
   "name": "python",
   "nbconvert_exporter": "python",
   "pygments_lexer": "ipython3",
   "version": "3.6.1"
  }
 },
 "nbformat": 4,
 "nbformat_minor": 2
}
