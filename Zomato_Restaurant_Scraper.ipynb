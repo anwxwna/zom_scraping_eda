{
 "cells": [
  {
   "cell_type": "code",
   "execution_count": 4,
   "metadata": {
    "collapsed": true
   },
   "outputs": [],
   "source": [
    "import io, time, json\n",
    "import requests as req\n",
    "from bs4 import BeautifulSoup"
   ]
  },
  {
   "cell_type": "code",
   "execution_count": 6,
   "metadata": {
    "collapsed": true
   },
   "outputs": [],
   "source": [
    "##Q1: Authenticated HTTP Request with the ZOMATO API\n",
    "def read_api_key(filepath):\n",
    "    with open(filepath,'r') as f:\n",
    "        return f.read().replace('\\n','')\n",
    "    "
   ]
  },
  {
   "cell_type": "code",
   "execution_count": 8,
   "metadata": {
    "collapsed": true
   },
   "outputs": [],
   "source": [
    "filepath='C:\\\\Users\\\\anwch\\\\Documents\\\\Plans\\\\data_science\\\\zomato.txt'\n",
    "api_key=read_api_key(filepath)\n",
    "zomatourl='https://developers.zomato.com/api/v2.1/city_ids'\n",
    "\n"
   ]
  },
  {
   "cell_type": "code",
   "execution_count": 10,
   "metadata": {
    "collapsed": true
   },
   "outputs": [],
   "source": [
    "class Api(object):\n",
    "    def __init__(self, api_key, host=\"https://developers.zomato.com/api/v2.1\",\n",
    "                 content_type='application/json'):\n",
    "        self.host = host\n",
    "        self.user_key = api_key\n",
    "        self.headers = {\n",
    "            \"User-agent\": \"curl/7.43.0\",\n",
    "            'Accept': content_type,\n",
    "            'X-Zomato-API-Key': self.user_key\n",
    "        }\n",
    "\n",
    "    def get(self, endpoint, params):\n",
    "        url = self.host + endpoint + \"?\"\n",
    "        for k,v in params.items():\n",
    "            url = url + \"{}={}&\".format(k, v)\n",
    "        url = url.rstrip(\"&\")\n",
    "        print(url)\n",
    "        response = req.get(url, headers=self.headers)\n",
    "        return response.json()"
   ]
  },
  {
   "cell_type": "code",
   "execution_count": 35,
   "metadata": {},
   "outputs": [],
   "source": [
    "class zomato_search(object):\n",
    "    def __init__(self, api_key):\n",
    "        self.api = Api(api_key)\n",
    "        \n",
    "    def city_id(self, **kwargs):\n",
    "        params = {}\n",
    "        available_keys = [\"q\", \"lat\", \"lon\", \"city_ids\", \"count\"]\n",
    "        for key in available_keys:\n",
    "            if key in kwargs:\n",
    "                params[key] = kwargs[key]\n",
    "        city = self.api.get(\"/cities\", params)\n",
    "        for locs in city['location_suggestions']:\n",
    "            if locs['country_name']=='India':\n",
    "                cid=locs['id']\n",
    "        return cid\n",
    "    \n",
    "    def all_restaurants(self, **kwargs):\n",
    "        params={}\n",
    "        rest_list=[]\n",
    "        available_keys=['entity_id','entity_type','q','start','count','lat','lon','radius','cuisines','establishment_type','collection_id','category','sort','order']\n",
    "        \n",
    "        for key in available_keys:\n",
    "            if key in kwargs:\n",
    "                if key=='city':\n",
    "                    params['entity_id']=self.city_id(q=kwargs['city'])\n",
    "                    params['entity_type']='city'\n",
    "                \n",
    "                params[key]=kwargs[key]\n",
    "                \n",
    "        for t in range(start,start+100,20):\n",
    "            params['start']= t\n",
    "            search=self.api.get(\"/search\",params)\n",
    "            time.sleep(0.2)\n",
    "            for i in range(len(search['restaurants'])-1 ):\n",
    "                rest_list.append(search['restaurants'][i]['restaurant']['name'])\n",
    "        print(len(rest_list))     \n",
    "        print(rest_list)   \n",
    "        return rest_list\n",
    "        \n",
    "    def rest_urls()\n"
   ]
  },
  {
   "cell_type": "code",
   "execution_count": null,
   "metadata": {
    "collapsed": true
   },
   "outputs": [],
   "source": []
  },
  {
   "cell_type": "code",
   "execution_count": 37,
   "metadata": {},
   "outputs": [
    {
     "name": "stdout",
     "output_type": "stream",
     "text": [
      "https://developers.zomato.com/api/v2.1/search?start=1&count=20&sort=cost&order=desc\n",
      "https://developers.zomato.com/api/v2.1/search?start=21&count=20&sort=cost&order=desc\n",
      "https://developers.zomato.com/api/v2.1/search?start=41&count=20&sort=cost&order=desc\n",
      "https://developers.zomato.com/api/v2.1/search?start=61&count=20&sort=cost&order=desc\n",
      "https://developers.zomato.com/api/v2.1/search?start=81&count=20&sort=cost&order=desc\n",
      "https://developers.zomato.com/api/v2.1/search?start=101&count=20&sort=cost&order=desc\n",
      "https://developers.zomato.com/api/v2.1/search?start=121&count=20&sort=cost&order=desc\n",
      "https://developers.zomato.com/api/v2.1/search?start=141&count=20&sort=cost&order=desc\n",
      "https://developers.zomato.com/api/v2.1/search?start=161&count=20&sort=cost&order=desc\n",
      "https://developers.zomato.com/api/v2.1/search?start=181&count=20&sort=cost&order=desc\n",
      "https://developers.zomato.com/api/v2.1/search?start=201&count=20&sort=cost&order=desc\n",
      "https://developers.zomato.com/api/v2.1/search?start=221&count=20&sort=cost&order=desc\n",
      "https://developers.zomato.com/api/v2.1/search?start=241&count=20&sort=cost&order=desc\n",
      "https://developers.zomato.com/api/v2.1/search?start=261&count=20&sort=cost&order=desc\n",
      "https://developers.zomato.com/api/v2.1/search?start=281&count=20&sort=cost&order=desc\n",
      "76\n",
      "['Lake House', 'Tha Fish', 'Brae', 'Rick Stein at Bannisters', 'Nunu', 'Riverscape Cafe & Restaurant', 'Stillwater', 'Muse Restaurant and Cafe', 'Paperbark Restaurant', 'Tumbling Waters Retreat', \"Miss Moneypenny's\", 'Swiss Mountain Hotel Restaurant', 'Flooded Gums', 'Chicane Bar and Grill', \"Emerson's\", 'Jean-Claude', 'PumpHouse Restaurant', 'Aire Valley Restaurant', 'Racine', 'Tea and Niceties', 'Red Sands Tavern', 'The Galley Kitchen', \"Peewee's at the Point\", 'Tali (@Lasseters)', 'Hackersley', 'Wills Domain', 'Anglesea Golf Club Bistro', 'Maheno Restaurant', 'Shakey Tables', 'Leonards Mill', 'Majors Lane', 'Provenance', 'The Lord Lyndoch', 'Rennies at Acheron', 'Capel Vale Match Restaurant', 'Biota Dining', 'Watersedge', 'Snow Pony', 'Mountain View Hotel', 'The Epicurean Centre', 'Singlefile Wines', 'Rococo Bistro Noosa', 'The Old George & Dragon', '1904 at The Esplanade Hotel', \"Zirky's Restaurant\", 'Sounds of Silence', 'Katers', \"E'Voo\", 'The Paddock Restaurant and Bar', 'Yea Peppercorn', 'Zephyr', 'Warrenmang Vineyard Restaurant', 'Zanders at Cable Beach', 'Bluebottles Brasserie', 'Delizie', 'Saltdish Cafe', 'Quattro Restaurant', 'Eschalot', 'Stonegrill Restaurant', 'Balcony Bar and Restaurant at The Palace Hotel', 'Vue 175', 'Megalomania Bar & Bistro', 'Flutes Restaurant at Brookland Valley Winery', 'Mermaids', 'Saltwater Cafe & Restaurant', 'St Isidore', 'Sadies Restaurant at Gloucester Motel', 'Blanche Bar', 'The Cowrie', 'Mantarays Bar Restaurant', 'Knee Deep in Margaret River', 'Bellbrae Harvest Restaurant', 'Nautilus', 'Wise Vineyard Restaurant', 'Figtree Churrasco', 'Hentley Farm Restaurant']\n",
      "https://developers.zomato.com/api/v2.1/search?start=1&count=20&sort=cost&order=desc\n",
      "https://developers.zomato.com/api/v2.1/search?start=21&count=20&sort=cost&order=desc\n",
      "https://developers.zomato.com/api/v2.1/search?start=41&count=20&sort=cost&order=desc\n",
      "https://developers.zomato.com/api/v2.1/search?start=61&count=20&sort=cost&order=desc\n",
      "https://developers.zomato.com/api/v2.1/search?start=81&count=20&sort=cost&order=desc\n",
      "https://developers.zomato.com/api/v2.1/search?start=101&count=20&sort=cost&order=desc\n",
      "https://developers.zomato.com/api/v2.1/search?start=121&count=20&sort=cost&order=desc\n",
      "https://developers.zomato.com/api/v2.1/search?start=141&count=20&sort=cost&order=desc\n",
      "https://developers.zomato.com/api/v2.1/search?start=161&count=20&sort=cost&order=desc\n",
      "https://developers.zomato.com/api/v2.1/search?start=181&count=20&sort=cost&order=desc\n",
      "https://developers.zomato.com/api/v2.1/search?start=201&count=20&sort=cost&order=desc\n",
      "https://developers.zomato.com/api/v2.1/search?start=221&count=20&sort=cost&order=desc\n",
      "https://developers.zomato.com/api/v2.1/search?start=241&count=20&sort=cost&order=desc\n",
      "https://developers.zomato.com/api/v2.1/search?start=261&count=20&sort=cost&order=desc\n",
      "https://developers.zomato.com/api/v2.1/search?start=281&count=20&sort=cost&order=desc\n",
      "76\n",
      "['Lake House', 'Tha Fish', 'Brae', 'Rick Stein at Bannisters', 'Nunu', 'Riverscape Cafe & Restaurant', 'Stillwater', 'Muse Restaurant and Cafe', 'Paperbark Restaurant', 'Tumbling Waters Retreat', \"Miss Moneypenny's\", 'Swiss Mountain Hotel Restaurant', 'Flooded Gums', 'Chicane Bar and Grill', \"Emerson's\", 'Jean-Claude', 'PumpHouse Restaurant', 'Aire Valley Restaurant', 'Racine', 'Tea and Niceties', 'Red Sands Tavern', 'The Galley Kitchen', \"Peewee's at the Point\", 'Tali (@Lasseters)', 'Hackersley', 'Wills Domain', 'Anglesea Golf Club Bistro', 'Maheno Restaurant', 'Shakey Tables', 'Leonards Mill', 'Majors Lane', 'Provenance', 'The Lord Lyndoch', 'Rennies at Acheron', 'Capel Vale Match Restaurant', 'Biota Dining', 'Watersedge', 'Snow Pony', 'Mountain View Hotel', 'The Epicurean Centre', 'Singlefile Wines', 'Rococo Bistro Noosa', 'The Old George & Dragon', '1904 at The Esplanade Hotel', \"Zirky's Restaurant\", 'Sounds of Silence', 'Katers', \"E'Voo\", 'The Paddock Restaurant and Bar', 'Yea Peppercorn', 'Zephyr', 'Warrenmang Vineyard Restaurant', 'Zanders at Cable Beach', 'Bluebottles Brasserie', 'Delizie', 'Saltdish Cafe', 'Quattro Restaurant', 'Eschalot', 'Stonegrill Restaurant', 'Balcony Bar and Restaurant at The Palace Hotel', 'Vue 175', 'Megalomania Bar & Bistro', 'Flutes Restaurant at Brookland Valley Winery', 'Mermaids', 'Saltwater Cafe & Restaurant', 'St Isidore', 'Sadies Restaurant at Gloucester Motel', 'Blanche Bar', 'The Cowrie', 'Mantarays Bar Restaurant', 'Knee Deep in Margaret River', 'Bellbrae Harvest Restaurant', 'Nautilus', 'Wise Vineyard Restaurant', 'Figtree Churrasco', 'Hentley Farm Restaurant']\n"
     ]
    },
    {
     "data": {
      "text/plain": [
       "['Lake House',\n",
       " 'Tha Fish',\n",
       " 'Brae',\n",
       " 'Rick Stein at Bannisters',\n",
       " 'Nunu',\n",
       " 'Riverscape Cafe & Restaurant',\n",
       " 'Stillwater',\n",
       " 'Muse Restaurant and Cafe',\n",
       " 'Paperbark Restaurant',\n",
       " 'Tumbling Waters Retreat',\n",
       " \"Miss Moneypenny's\",\n",
       " 'Swiss Mountain Hotel Restaurant',\n",
       " 'Flooded Gums',\n",
       " 'Chicane Bar and Grill',\n",
       " \"Emerson's\",\n",
       " 'Jean-Claude',\n",
       " 'PumpHouse Restaurant',\n",
       " 'Aire Valley Restaurant',\n",
       " 'Racine',\n",
       " 'Tea and Niceties',\n",
       " 'Red Sands Tavern',\n",
       " 'The Galley Kitchen',\n",
       " \"Peewee's at the Point\",\n",
       " 'Tali (@Lasseters)',\n",
       " 'Hackersley',\n",
       " 'Wills Domain',\n",
       " 'Anglesea Golf Club Bistro',\n",
       " 'Maheno Restaurant',\n",
       " 'Shakey Tables',\n",
       " 'Leonards Mill',\n",
       " 'Majors Lane',\n",
       " 'Provenance',\n",
       " 'The Lord Lyndoch',\n",
       " 'Rennies at Acheron',\n",
       " 'Capel Vale Match Restaurant',\n",
       " 'Biota Dining',\n",
       " 'Watersedge',\n",
       " 'Snow Pony',\n",
       " 'Mountain View Hotel',\n",
       " 'The Epicurean Centre',\n",
       " 'Singlefile Wines',\n",
       " 'Rococo Bistro Noosa',\n",
       " 'The Old George & Dragon',\n",
       " '1904 at The Esplanade Hotel',\n",
       " \"Zirky's Restaurant\",\n",
       " 'Sounds of Silence',\n",
       " 'Katers',\n",
       " \"E'Voo\",\n",
       " 'The Paddock Restaurant and Bar',\n",
       " 'Yea Peppercorn',\n",
       " 'Zephyr',\n",
       " 'Warrenmang Vineyard Restaurant',\n",
       " 'Zanders at Cable Beach',\n",
       " 'Bluebottles Brasserie',\n",
       " 'Delizie',\n",
       " 'Saltdish Cafe',\n",
       " 'Quattro Restaurant',\n",
       " 'Eschalot',\n",
       " 'Stonegrill Restaurant',\n",
       " 'Balcony Bar and Restaurant at The Palace Hotel',\n",
       " 'Vue 175',\n",
       " 'Megalomania Bar & Bistro',\n",
       " 'Flutes Restaurant at Brookland Valley Winery',\n",
       " 'Mermaids',\n",
       " 'Saltwater Cafe & Restaurant',\n",
       " 'St Isidore',\n",
       " 'Sadies Restaurant at Gloucester Motel',\n",
       " 'Blanche Bar',\n",
       " 'The Cowrie',\n",
       " 'Mantarays Bar Restaurant',\n",
       " 'Knee Deep in Margaret River',\n",
       " 'Bellbrae Harvest Restaurant',\n",
       " 'Nautilus',\n",
       " 'Wise Vineyard Restaurant',\n",
       " 'Figtree Churrasco',\n",
       " 'Hentley Farm Restaurant']"
      ]
     },
     "execution_count": 37,
     "metadata": {},
     "output_type": "execute_result"
    }
   ],
   "source": [
    "zom = zomato_search(api_key)\n",
    "#cid=zom.city_id(q='bengaluru')\n",
    "zom.all_restaurants(city='delhi',sort='cost',order='desc',count=20,start=1)\n",
    "zom.all_restaurants(city='delhi',sort='cost',order='desc',count=20,start=100)\n"
   ]
  },
  {
   "cell_type": "code",
   "execution_count": 29,
   "metadata": {},
   "outputs": [
    {
     "name": "stdout",
     "output_type": "stream",
     "text": [
      "https://developers.zomato.com/api/v2.1/search?count=100&sort=cost&order=desc&start=8\n",
      "Muse Restaurant and Cafe\n",
      "Paperbark Restaurant\n",
      "Tumbling Waters Retreat\n",
      "Miss Moneypenny's\n",
      "Swiss Mountain Hotel Restaurant\n",
      "Flooded Gums\n",
      "Chicane Bar and Grill\n",
      "Emerson's\n",
      "Jean-Claude\n",
      "PumpHouse Restaurant\n",
      "Aire Valley Restaurant\n",
      "Racine\n",
      "The Argus Dining Room\n",
      "Tea and Niceties\n",
      "Red Sands Tavern\n",
      "The Galley Kitchen\n",
      "Peewee's at the Point\n",
      "Tali (@Lasseters)\n",
      "Hackersley\n"
     ]
    },
    {
     "data": {
      "text/plain": [
       "[]"
      ]
     },
     "execution_count": 29,
     "metadata": {},
     "output_type": "execute_result"
    }
   ],
   "source": [
    "zom = zomato_search(api_key)\n",
    "#cid=zom.city_id(q='bengaluru')\n",
    "zom.all_restaurants(city='delhi',sort='cost',order='desc',count=100)"
   ]
  }
 ],
 "metadata": {
  "kernelspec": {
   "display_name": "Python 3",
   "language": "python",
   "name": "python3"
  },
  "language_info": {
   "codemirror_mode": {
    "name": "ipython",
    "version": 3
   },
   "file_extension": ".py",
   "mimetype": "text/x-python",
   "name": "python",
   "nbconvert_exporter": "python",
   "pygments_lexer": "ipython3",
   "version": "3.6.1"
  }
 },
 "nbformat": 4,
 "nbformat_minor": 2
}
